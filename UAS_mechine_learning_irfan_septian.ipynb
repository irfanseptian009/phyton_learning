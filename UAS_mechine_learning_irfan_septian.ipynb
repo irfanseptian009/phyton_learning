{
 "cells": [
  {
   "cell_type": "code",
   "execution_count": 2,
   "metadata": {},
   "outputs": [
    {
     "name": "stdout",
     "output_type": "stream",
     "text": [
      "NIM Anda berakhiran genap\n"
     ]
    }
   ],
   "source": [
    "# NIM irfan septian\n",
    "nim = 20200801406\n",
    "\n",
    "# Cek dua digit terakhir\n",
    "akhir = nim % 100\n",
    "\n",
    "# Cek apakah genap atau ganjil\n",
    "if akhir % 2 == 0:\n",
    "    print(\"NIM Anda berakhiran genap\")\n",
    "else:\n",
    "    print(\"NIM Anda berakhiran ganjil\")"
   ]
  },
  {
   "cell_type": "markdown",
   "metadata": {},
   "source": [
    "Untuk memeriksa apakah dua digit terakhir dari NIM adalah genap atau ganjil, kita dapat menggunakan operator modulo (%) yang mengembalikan sisa pembagian antara dua bilangan. Jika sisa pembagian NIM dengan 2 adalah 0, maka NIM berakhiran genap. Jika sisa pembagian NIM dengan 2 adalah 1, maka NIM berakhiran ganjil."
   ]
  }
 ],
 "metadata": {
  "kernelspec": {
   "display_name": "Python 3",
   "language": "python",
   "name": "python3"
  },
  "language_info": {
   "codemirror_mode": {
    "name": "ipython",
    "version": 3
   },
   "file_extension": ".py",
   "mimetype": "text/x-python",
   "name": "python",
   "nbconvert_exporter": "python",
   "pygments_lexer": "ipython3",
   "version": "3.12.0"
  }
 },
 "nbformat": 4,
 "nbformat_minor": 2
}
