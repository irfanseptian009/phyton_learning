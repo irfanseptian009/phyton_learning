{
 "cells": [
  {
   "cell_type": "code",
   "execution_count": 4,
   "id": "58a39ea2-553f-45f5-b968-3bd53c7a6905",
   "metadata": {},
   "outputs": [
    {
     "name": "stdin",
     "output_type": "stream",
     "text": [
      "Masukkan nilai Tugas:  57\n",
      "Masukkan nilai UTS:  67\n",
      "Masukkan nilai UAS:  86\n"
     ]
    },
    {
     "name": "stdout",
     "output_type": "stream",
     "text": [
      "Nilai Akhir: 75.00\n",
      "Grade: B\n",
      "Status: Lulus\n"
     ]
    }
   ],
   "source": [
    "\n",
    "#Menginput Nilai Tugas, UTS, dan UAS\n",
    "tugas = float(input(\"Masukkan nilai Tugas: \"))\n",
    "uts = float(input(\"Masukkan nilai UTS: \"))\n",
    "uas = float(input(\"Masukkan nilai UAS: \"))\n",
    " \n",
    "#Menghitung Nilai Akhir sesuai dengan Bobot\n",
    "nilai =  (0.15 * tugas) + (0.35 * uts) +  (0.50 * uas)\n",
    " \n",
    "#Menentukan Grade Berdasarkan Nilai Akhir\n",
    "if nilai > 80:\n",
    "    grade = 'A'\n",
    "elif nilai > 70:\n",
    "    grade = 'B'\n",
    "elif nilai > 60:\n",
    "    grade = 'C'\n",
    "elif nilai > 50:\n",
    "    grade = 'D'\n",
    "else:\n",
    "    grade = 'E'\n",
    " \n",
    "#Menentukan Status Kelulusan Berdasarkan Nilai Akhir\n",
    "if nilai > 60:\n",
    "    status = 'Lulus'\n",
    "else:\n",
    "    status = 'Tidak Lulus'\n",
    " \n",
    "#Menampilkan Nilai Akhir, Grade, dan Status Kelulusan\n",
    "print('Nilai Akhir: %0.2f' % nilai)\n",
    "print('Grade: {}'.format(grade))\n",
    "print('Status: {}'.format(status))"
   ]
  },
  {
   "cell_type": "code",
   "execution_count": null,
   "id": "5bbbdf14-0c76-44fc-a833-69b506717304",
   "metadata": {},
   "outputs": [],
   "source": []
  }
 ],
 "metadata": {
  "kernelspec": {
   "display_name": "Python 3 (ipykernel)",
   "language": "python",
   "name": "python3"
  },
  "language_info": {
   "codemirror_mode": {
    "name": "ipython",
    "version": 3
   },
   "file_extension": ".py",
   "mimetype": "text/x-python",
   "name": "python",
   "nbconvert_exporter": "python",
   "pygments_lexer": "ipython3",
   "version": "3.11.6"
  }
 },
 "nbformat": 4,
 "nbformat_minor": 5
}
