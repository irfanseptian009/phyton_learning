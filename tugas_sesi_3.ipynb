{
 "cells": [
  {
   "cell_type": "raw",
   "id": "9715a39b-efdd-451b-ad01-0064064b3b25",
   "metadata": {},
   "source": [
    "SOAL 1\n",
    "Buatlah identitas diri menggunakan pemograman python sederhana"
   ]
  },
  {
   "cell_type": "code",
   "execution_count": 3,
   "id": "ffcd94a6-056b-4b74-b289-3fd487f0fac5",
   "metadata": {},
   "outputs": [
    {
     "name": "stdout",
     "output_type": "stream",
     "text": [
      "DATA DIRI\n",
      "Nama :  irfan septian\n",
      "Kode Dosen:  8775\n",
      "Perkuliahan:  Machine Learning\n"
     ]
    }
   ],
   "source": [
    "#jawaban soal 1\n",
    "nama = \"irfan septian\"\n",
    "kode_dosen = \"8775\"\n",
    "mata_kuliah = \"Machine Learning\"\n",
    "\n",
    "print(\"DATA DIRI\")\n",
    "print(\"Nama : \", nama)\n",
    "print(\"Kode Dosen: \", kode_dosen)\n",
    "print(\"Perkuliahan: \", mata_kuliah)"
   ]
  },
  {
   "cell_type": "markdown",
   "id": "8e4f1e07-f68e-4d08-bbd5-e9c885a8157d",
   "metadata": {},
   "source": [
    "soal 2\n",
    "Buatlah matriksC dengan orde 2x3, dan nilai yang diberikan pada matriksC adalah sebagai berikut:\r\n",
    "\r\n",
    "Baris 1 Kolom 1, nilai = 1\r\n",
    "Baris 1 Kolom 2, nilai = 2\r\n",
    "Baris 1 Kolom 3, nilai = 3\r\n",
    "Baris 2 Kolom 1, nilai = 4\r\n",
    "Baris 2 Kolom 2, nilai = 5\r\n",
    "Baris 2 Kolom 3, nilai = 6"
   ]
  },
  {
   "cell_type": "code",
   "execution_count": 4,
   "id": "603be1b0-e48f-40cc-b705-d6dd2cc64993",
   "metadata": {},
   "outputs": [
    {
     "name": "stdout",
     "output_type": "stream",
     "text": [
      "[[1, 2, 3], [4, 5, 6]]\n"
     ]
    }
   ],
   "source": [
    "#jawaban soal2\n",
    "matriksC= [[1,2,3],[4,5,6]]\n",
    "print(matriksC)"
   ]
  },
  {
   "cell_type": "markdown",
   "id": "88ef6f59-b0b5-4df5-8be1-691ad254f126",
   "metadata": {},
   "source": [
    "SOAL 3\r\n",
    "Buatlah matriks dengan orde 3x2, dengan nilai adalah:\r\n",
    "\r\n",
    "Baris 1 Kolom 1, nilai = 2\r\n",
    "Baris 1 Kolom 2, nilai = 2\r\n",
    "Baris 2 Kolom 1, nilai = 2\r\n",
    "Baris 2 Kolom 2, nilai = 2\r\n",
    "Baris 3 Kolom 1, nilai = 2\r\n",
    "Baris 3 Kolom 2, nilai = 2"
   ]
  },
  {
   "cell_type": "code",
   "execution_count": 5,
   "id": "35322852-0e2f-4885-9eab-69f0e51cd2bb",
   "metadata": {},
   "outputs": [
    {
     "name": "stdout",
     "output_type": "stream",
     "text": [
      "[[2, 2], [2, 2], [2, 2]]\n"
     ]
    }
   ],
   "source": [
    "#jawaban soal 3\n",
    "matriks = [[2,2],[2,2],[2,2]]\n",
    "print(matriks)"
   ]
  },
  {
   "cell_type": "markdown",
   "id": "3dc741ed-1191-4bc4-bb53-68577a2ebb27",
   "metadata": {},
   "source": [
    "SOAL 4\r\n",
    "Importlah library Numpy"
   ]
  },
  {
   "cell_type": "code",
   "execution_count": null,
   "id": "2c26075f-3534-4412-830d-8de6df9016a0",
   "metadata": {},
   "outputs": [],
   "source": [
    "import numpy as np"
   ]
  },
  {
   "cell_type": "code",
   "execution_count": null,
   "id": "0b540252-e2e1-4d2c-89fa-a37a63cc5d0a",
   "metadata": {},
   "outputs": [],
   "source": [
    "#jawaban 5\n",
    "from numpy import *\n",
    "matriks = range(32)\n",
    "matriks = reshape(matriks, (4,8))\n",
    "print(matriks)"
   ]
  },
  {
   "cell_type": "markdown",
   "id": "24f937d9-b198-420a-b283-ed15d7665a64",
   "metadata": {},
   "source": [
    "soal 5\n",
    "Dengan memanfaatkan library numpy Buatlah matriks dengan menggunakan Library Numpy dengan panjang elemen adalah 32 dan matriks memiliki orde 4x8"
   ]
  },
  {
   "cell_type": "markdown",
   "id": "45f5d976-84f8-4631-ab69-8a34a07768ef",
   "metadata": {},
   "source": [
    "SOAL 6\r\n",
    "Buatlah matriks dengan menggunakan Library Numpy dengan orde 3x30, dan nilai elemen dimulai dari indeks 1 sampai dengan 5 secara random."
   ]
  },
  {
   "cell_type": "code",
   "execution_count": null,
   "id": "0d6e2973-4c53-4d9a-b825-0bad631230d1",
   "metadata": {},
   "outputs": [],
   "source": [
    "#jawaban 6\n",
    "import numpy as np\n",
    "from numpy import *\n",
    "\n",
    "matriks = np.random.randint(1,5,(3,30))\n",
    "print(matriks)"
   ]
  }
 ],
 "metadata": {
  "kernelspec": {
   "display_name": "Python 3 (ipykernel)",
   "language": "python",
   "name": "python3"
  },
  "language_info": {
   "codemirror_mode": {
    "name": "ipython",
    "version": 3
   },
   "file_extension": ".py",
   "mimetype": "text/x-python",
   "name": "python",
   "nbconvert_exporter": "python",
   "pygments_lexer": "ipython3",
   "version": "3.11.6"
  }
 },
 "nbformat": 4,
 "nbformat_minor": 5
}
