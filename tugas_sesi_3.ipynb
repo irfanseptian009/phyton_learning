{
 "cells": [
  {
   "cell_type": "raw",
   "id": "9715a39b-efdd-451b-ad01-0064064b3b25",
   "metadata": {},
   "source": [
    "SOAL 1\n",
    "Buatlah identitas diri menggunakan pemograman python sederhana"
   ]
  },
  {
   "cell_type": "code",
   "execution_count": 3,
   "id": "ffcd94a6-056b-4b74-b289-3fd487f0fac5",
   "metadata": {},
   "outputs": [
    {
     "name": "stdout",
     "output_type": "stream",
     "text": [
      "DATA DIRI\n",
      "Nama :  irfan septian\n",
      "Kode Dosen:  8775\n",
      "Perkuliahan:  Machine Learning\n"
     ]
    }
   ],
   "source": [
    "#jawaban soal 1\n",
    "nama = \"irfan septian\"\n",
    "kode_dosen = \"8775\"\n",
    "mata_kuliah = \"Machine Learning\"\n",
    "\n",
    "print(\"DATA DIRI\")\n",
    "print(\"Nama : \", nama)\n",
    "print(\"Kode Dosen: \", kode_dosen)\n",
    "print(\"Perkuliahan: \", mata_kuliah)"
   ]
  },
  {
   "cell_type": "markdown",
   "id": "8e4f1e07-f68e-4d08-bbd5-e9c885a8157d",
   "metadata": {},
   "source": [
    "soal 2\n",
    "Buatlah matriksC dengan orde 2x3, dan nilai yang diberikan pada matriksC adalah sebagai berikut:\r\n",
    "\r\n",
    "Baris 1 Kolom 1, nilai = 1\r\n",
    "Baris 1 Kolom 2, nilai = 2\r\n",
    "Baris 1 Kolom 3, nilai = 3\r\n",
    "Baris 2 Kolom 1, nilai = 4\r\n",
    "Baris 2 Kolom 2, nilai = 5\r\n",
    "Baris 2 Kolom 3, nilai = 6"
   ]
  },
  {
   "cell_type": "code",
   "execution_count": 4,
   "id": "603be1b0-e48f-40cc-b705-d6dd2cc64993",
   "metadata": {},
   "outputs": [
    {
     "name": "stdout",
     "output_type": "stream",
     "text": [
      "[[1, 2, 3], [4, 5, 6]]\n"
     ]
    }
   ],
   "source": [
    "#jawaban soal2\n",
    "matriksC= [[1,2,3],[4,5,6]]\n",
    "print(matriksC)"
   ]
  },
  {
   "cell_type": "markdown",
   "id": "88ef6f59-b0b5-4df5-8be1-691ad254f126",
   "metadata": {},
   "source": [
    "SOAL 3\r\n",
    "Buatlah matriks dengan orde 3x2, dengan nilai adalah:\r\n",
    "\r\n",
    "Baris 1 Kolom 1, nilai = 2\r\n",
    "Baris 1 Kolom 2, nilai = 2\r\n",
    "Baris 2 Kolom 1, nilai = 2\r\n",
    "Baris 2 Kolom 2, nilai = 2\r\n",
    "Baris 3 Kolom 1, nilai = 2\r\n",
    "Baris 3 Kolom 2, nilai = 2"
   ]
  },
  {
   "cell_type": "code",
   "execution_count": 5,
   "id": "35322852-0e2f-4885-9eab-69f0e51cd2bb",
   "metadata": {},
   "outputs": [
    {
     "name": "stdout",
     "output_type": "stream",
     "text": [
      "[[2, 2], [2, 2], [2, 2]]\n"
     ]
    }
   ],
   "source": [
    "#jawaban soal 3\n",
    "matriks = [[2,2],[2,2],[2,2]]\n",
    "print(matriks)"
   ]
  },
  {
   "cell_type": "markdown",
   "id": "3dc741ed-1191-4bc4-bb53-68577a2ebb27",
   "metadata": {},
   "source": [
    "SOAL 4\r\n",
    "Importlah library Numpy"
   ]
  },
  {
   "cell_type": "code",
   "execution_count": null,
   "id": "2c26075f-3534-4412-830d-8de6df9016a0",
   "metadata": {},
   "outputs": [],
   "source": [
    "import numpy as np"
   ]
  },
  {
   "cell_type": "markdown",
   "id": "abd44fd6-68ac-4df7-9d1e-2f3989ce6b30",
   "metadata": {},
   "source": []
  },
  {
   "cell_type": "markdown",
   "id": "24f937d9-b198-420a-b283-ed15d7665a64",
   "metadata": {},
   "source": [
    "soal 5\n",
    "Dengan memanfaatkan library numpy Buatlah matriks dengan menggunakan Library Numpy dengan panjang elemen adalah 32 dan matriks memiliki orde 4x8"
   ]
  },
  {
   "cell_type": "code",
   "execution_count": null,
   "id": "fc21c249-ff05-4f59-8d12-1b373e1346b7",
   "metadata": {},
   "outputs": [],
   "source": [
    "#jawaban 5\n",
    "from numpy import *\n",
    "matriks = range(32)\n",
    "matriks = reshape(matriks, (4,8))\n",
    "print(matriks)"
   ]
  },
  {
   "cell_type": "raw",
   "id": "989d0ace-a132-4d80-b7b4-08a2593a4878",
   "metadata": {},
   "source": [
    "[[ 0  1  2  3  4  5  6  7]\r\n",
    " [ 8  9 10 11 12 13 14 15]\r\n",
    " [16 17 18 19 20 21 22 23]\r\n",
    " [24 25 26 27 28 29 30 31]]"
   ]
  },
  {
   "cell_type": "markdown",
   "id": "45f5d976-84f8-4631-ab69-8a34a07768ef",
   "metadata": {},
   "source": [
    "SOAL 6\r\n",
    "Buatlah matriks dengan menggunakan Library Numpy dengan orde 3x30, dan nilai elemen dimulai dari indeks 1 sampai dengan 5 secara random."
   ]
  },
  {
   "cell_type": "code",
   "execution_count": null,
   "id": "0d6e2973-4c53-4d9a-b825-0bad631230d1",
   "metadata": {},
   "outputs": [],
   "source": [
    "#jawaban 6\n",
    "import numpy as np\n",
    "from numpy import *\n",
    "\n",
    "matriks = np.random.randint(1,5,(3,30))\n",
    "print(matriks)"
   ]
  },
  {
   "cell_type": "raw",
   "id": "6d62c61a-6600-4e51-b326-62493df4ba5e",
   "metadata": {},
   "source": [
    "[[3 4 4 3 4 2 1 3 4 1 2 3 1 3 1 1 1 3 2 1 1 1 1 2 1 1 4 1 1 3]\n",
    " [1 2 1 4 3 3 3 1 3 1 1 1 1 4 4 1 4 1 3 1 2 1 1 1 1 4 4 4 4 1]\n",
    " [2 3 2 4 2 4 1 3 3 1 1 2 4 4 2 3 4 1 4 3 2 1 1 1 4 1 2 4 4 1]]"
   ]
  }
 ],
 "metadata": {
  "kernelspec": {
   "display_name": "Python 3 (ipykernel)",
   "language": "python",
   "name": "python3"
  },
  "language_info": {
   "codemirror_mode": {
    "name": "ipython",
    "version": 3
   },
   "file_extension": ".py",
   "mimetype": "text/x-python",
   "name": "python",
   "nbconvert_exporter": "python",
   "pygments_lexer": "ipython3",
   "version": "3.11.6"
  }
 },
 "nbformat": 4,
 "nbformat_minor": 5
}
