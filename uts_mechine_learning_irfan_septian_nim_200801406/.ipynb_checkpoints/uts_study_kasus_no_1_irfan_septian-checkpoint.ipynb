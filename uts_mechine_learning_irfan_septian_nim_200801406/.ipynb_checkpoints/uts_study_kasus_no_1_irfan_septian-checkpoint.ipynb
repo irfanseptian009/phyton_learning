{
 "cells": [
  {
   "cell_type": "code",
   "execution_count": null,
   "id": "7afe4c9f-3b27-4a98-bc60-d55d4e95c6d3",
   "metadata": {},
   "outputs": [],
   "source": [
    "berikut jawaban no 1 study kasus\n",
    "\n",
    "| HARI  | DATANG | BIAYA  | MAHASISWA |\n",
    "| ----- | ------ | ------ | --------- |\n",
    "| Senin | 2      | 60.000 | Ani       |\n",
    "| Selasa| 3      | 105.000| Budi      |\n",
    "| Rabu  | 4      | 100.000| Jono      |\n",
    "| Kamis | 1      | 15.000 | Lono      |\n",
    "| Jumat | 2      | 40.000 | Joni      |\n",
    "| Sabtu | 5      | 150.000| Ani       |\n",
    "| Minggu| 2      | 70.000 | Budi      |\n",
    "\n",
    "Dengan menggunakan tabel tersebut sebagai berikut:\n",
    "\n",
    "a) Rata-rata mahasiswa datang pada minggu ini adalah **2,71**. Ini dihitung dengan cara membagi jumlah total datang (19) dengan jumlah hari (7).\n",
    "b) Biaya tertinggi terjadi pada hari **Sabtu**, yaitu sebesar **150.000**. Ini karena Ani datang sebanyak 5 kali dan menghabiskan biaya 30.000 setiap datang.\n",
    "c) Hari-hari yang biayanya lebih dari 110.000 adalah **Selasa** dan **Sabtu**. Pada hari Selasa, biayanya sebesar 105.000, sedangkan pada hari Sabtu, biayanya sebesar 150.000.\n",
    "d) Mahasiswa yang paling banyak datang ke kampus adalah **Ani**, yaitu sebanyak 7 kali. Ini dihitung dengan cara menjumlahkan frekuensi datang Ani pada hari Senin (2) dan Sabtu (5).\n",
    "e) Mahasiswa yang datang pada hari Minggu adalah **Budi**, yaitu sebanyak 2 kali. Ini terlihat dari tabel di atas.\n",
    "f) Biaya tertinggi adalah **150.000**, yang terjadi pada hari Sabtu. Biaya terendah adalah **15.000**, yang terjadi pada hari Kamis.\n",
    "g) Frekuensi datang tertinggi adalah **5**, yang terjadi pada hari Sabtu. Frekuensi datang terendah adalah **1**, yang terjadi pada hari Kamis."
   ]
  },
  {
   "cell_type": "code",
   "execution_count": null,
   "id": "764eb4b0-de06-4f22-83e7-cc0e97ae1bf1",
   "metadata": {},
   "outputs": [],
   "source": [
    "import matplotlib.pyplot as plt\n",
    "\n",
    "fakultas = [“Bisnis”, “D3 Perhotelan”, “ICT”, “Ilmu Komunikasi”, “Seni dan Desain”] jumlah_mahasiswa = [260, 28, 284, 465, 735] akreditasi = [“A”,“A”,“B”,“A”,“A”]\n",
    "\n",
    "plt.bar(fakultas, jumlah_mahasiswa, color=[“red”, “orange”, “yellow”, “green”, “blue”])\n",
    "\n",
    "plt.title(“Jumlah Mahasiswa per Fakultas di Universitas Esa Unggul”) plt.xlabel(“Fakultas”) plt.ylabel(“Jumlah Mahasiswa”) plt.legend(fakultas)\n",
    "\n",
    "for i in range(len(fakultas)): plt.text(fakultas[i], jumlah_mahasiswa[i]+10, str(jumlah_mahasiswa[i]), ha=“center”, va=“bottom”)\n",
    "\n",
    "plt.show()"
   ]
  }
 ],
 "metadata": {
  "kernelspec": {
   "display_name": "Python 3 (ipykernel)",
   "language": "python",
   "name": "python3"
  },
  "language_info": {
   "codemirror_mode": {
    "name": "ipython",
    "version": 3
   },
   "file_extension": ".py",
   "mimetype": "text/x-python",
   "name": "python",
   "nbconvert_exporter": "python",
   "pygments_lexer": "ipython3",
   "version": "3.11.6"
  }
 },
 "nbformat": 4,
 "nbformat_minor": 5
}
