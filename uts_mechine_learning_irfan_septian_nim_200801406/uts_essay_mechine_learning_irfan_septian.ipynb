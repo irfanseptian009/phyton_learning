{
 "cells": [
  {
   "cell_type": "code",
   "execution_count": null,
   "id": "788ca535-7757-4e1a-b45c-af2b8ed8c484",
   "metadata": {},
   "outputs": [],
   "source": [
    "SOAL ESSAY : (50 Poin)\n",
    "1) Jelaskan apa yang dimaksud dengan Machine Learning \n",
    "2) Berikan contoh penerapan implemetasi dalam kehidupan sehari-hari terkait \n",
    "Machine Learning. Dan jelaskan mengapa membutuhkannya dan manfaatnya\n",
    "3) Jelaskan macam-macam taxonomi dalam pengerapan Machine Learning"
   ]
  },
  {
   "cell_type": "code",
   "execution_count": null,
   "id": "57e4c6d8-19ba-4c0b-863c-beffbff75250",
   "metadata": {},
   "outputs": [],
   "source": [
    "jawaban:\n",
    "1.)Machine learning adalah teknologi yang memungkinkan komputer untuk belajar dari data dan melakukan tugas-tugas tertentu tanpa perlu diprogram secara eksplisit. Machine learning merupakan cabang dari kecerdasan buatan (artificial intelligence) yang berfokus pada pembuatan sistem yang dapat belajar dari pengalaman dan meningkatkan kinerjanya secara otomatis.\n",
    "Cara kerja machine learning adalah dengan menggunakan algoritma yang dapat menganalisis data, menemukan pola, dan membuat prediksi atau keputusan berdasarkan data tersebut. Algoritma machine learning dapat belajar dari data yang sudah ada (supervised learning), data yang belum berlabel (unsupervised learning), atau data yang diperoleh dari interaksi dengan lingkungan (reinforcement learning)\n",
    "2.}Virtual Personal Assistant atau Chatbot: Machine learning dapat digunakan untuk membuat asisten virtual atau chatbot yang dapat membantu karyawan atau pelanggan dalam berbagai hal, seperti menjawab pertanyaan, mengatur jadwal, mengirim email, atau melakukan transaksi. Contoh asisten virtual yang menggunakan machine learning adalah Siri, Alexa, atau Google Assistant. Manfaat dari penerapan ini adalah meningkatkan efisiensi, produktivitas, dan kenyamanan karyawan atau pelanggan, serta menghemat biaya dan waktu\n",
    "3.)Taxonomi adalah ilmu yang mempelajari tentang klasifikasi atau pengelompokan sesuatu berdasarkan karakteristik atau ciri-ciri tertentu. Dalam konteks machine learning, taxonomi dapat digunakan untuk membedakan berbagai jenis model, algoritma, atau masalah yang dapat diselesaikan dengan machine learning.\n"
   ]
  }
 ],
 "metadata": {
  "kernelspec": {
   "display_name": "Python 3 (ipykernel)",
   "language": "python",
   "name": "python3"
  },
  "language_info": {
   "codemirror_mode": {
    "name": "ipython",
    "version": 3
   },
   "file_extension": ".py",
   "mimetype": "text/x-python",
   "name": "python",
   "nbconvert_exporter": "python",
   "pygments_lexer": "ipython3",
   "version": "3.11.6"
  }
 },
 "nbformat": 4,
 "nbformat_minor": 5
}
